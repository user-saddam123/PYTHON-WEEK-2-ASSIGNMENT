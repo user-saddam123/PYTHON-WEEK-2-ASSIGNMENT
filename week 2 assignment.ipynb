{
 "cells": [
  {
   "cell_type": "raw",
   "id": "ef491dce-4ad7-4859-9a98-1a9540a65497",
   "metadata": {},
   "source": [
    "WEEK 2\n",
    "        ASSINGMENT\n",
    "                    BY-SADDAM ANSARI\n",
    "                                        FOR PW SKILLS\n",
    "                                        DURING IN DATA SCIENCE MASTERS PROGRAM "
   ]
  },
  {
   "cell_type": "markdown",
   "id": "6d7b0a77-ae23-48a1-8672-be7bc46d6d1e",
   "metadata": {},
   "source": [
    "Q1. How do you comment code in Python? What are the different types of comments?"
   ]
  },
  {
   "cell_type": "raw",
   "id": "9c302138-9c48-4438-8092-31fd84e65eaa",
   "metadata": {},
   "source": [
    "1.single line comments "
   ]
  },
  {
   "cell_type": "code",
   "execution_count": 1,
   "id": "dee3b895-1dc4-408b-8983-c351cc27c71e",
   "metadata": {},
   "outputs": [],
   "source": [
    "# THIS IS A SIMGLE LINE COMMENT ITS NOT A RUN IN COPLIER."
   ]
  },
  {
   "cell_type": "raw",
   "id": "c0428800-8e25-4d94-bbdd-3529d090a400",
   "metadata": {},
   "source": [
    "2.multy line comment"
   ]
  },
  {
   "cell_type": "code",
   "execution_count": 5,
   "id": "48c6449d-5197-476b-b9e1-402047ee8cb8",
   "metadata": {},
   "outputs": [
    {
     "name": "stdout",
     "output_type": "stream",
     "text": [
      "hello world\n"
     ]
    }
   ],
   "source": [
    "\"\"\"THIS IS\n",
    "A MULTI LINE\n",
    "COMMENT . IT IS IGNORE\n",
    "BY COMPILER \"\"\"\n",
    "\n",
    "\n",
    "print('hello world')  # this hello world run but above line is ignored by pythone."
   ]
  },
  {
   "cell_type": "markdown",
   "id": "f4c5d7dd-8a54-4398-a3c2-03ab44561da4",
   "metadata": {},
   "source": [
    "Q2. What are variables in Python? How do you declare and assign values to variables?"
   ]
  },
  {
   "cell_type": "raw",
   "id": "3088d5b2-c0fe-4811-9eda-d95c477caaab",
   "metadata": {},
   "source": [
    "In Python, variables are used to store and manipulate data"
   ]
  },
  {
   "cell_type": "code",
   "execution_count": 6,
   "id": "218b760b-6d14-448b-91b5-e220147f48e8",
   "metadata": {},
   "outputs": [],
   "source": [
    "# variables decleartion and assignment\n",
    "name='saddam'\n",
    "age=19\n",
    "email='saddam@gmailcom'\n",
    "height=170\n"
   ]
  },
  {
   "cell_type": "markdown",
   "id": "02f8c451-27b8-408d-98fe-69d03b8dd022",
   "metadata": {},
   "source": [
    "Q3. How do you convert one data type to another in Python?"
   ]
  },
  {
   "cell_type": "code",
   "execution_count": 10,
   "id": "d48b2951-ffce-44ad-924f-8f385bb9ccff",
   "metadata": {},
   "outputs": [
    {
     "name": "stdin",
     "output_type": "stream",
     "text": [
      "enter you number 66\n"
     ]
    },
    {
     "data": {
      "text/plain": [
       "66"
      ]
     },
     "execution_count": 10,
     "metadata": {},
     "output_type": "execute_result"
    }
   ],
   "source": [
    "num=input('enter you number')\n",
    "int(num) # converted into int"
   ]
  },
  {
   "cell_type": "code",
   "execution_count": 11,
   "id": "5a4836df-c255-44a5-b234-c2f4987b57aa",
   "metadata": {},
   "outputs": [
    {
     "data": {
      "text/plain": [
       "'66'"
      ]
     },
     "execution_count": 11,
     "metadata": {},
     "output_type": "execute_result"
    }
   ],
   "source": [
    "str(num) # converted into str"
   ]
  },
  {
   "cell_type": "code",
   "execution_count": 12,
   "id": "fb95f1e9-e107-4969-b4d6-78f140c84dd4",
   "metadata": {},
   "outputs": [
    {
     "data": {
      "text/plain": [
       "66.0"
      ]
     },
     "execution_count": 12,
     "metadata": {},
     "output_type": "execute_result"
    }
   ],
   "source": [
    "float(num) # converted into float"
   ]
  },
  {
   "cell_type": "markdown",
   "id": "11ce2326-43b4-4b50-af44-4adac9c4c892",
   "metadata": {},
   "source": [
    "Q4. How do you write and execute a Python script from the command line?"
   ]
  },
  {
   "cell_type": "code",
   "execution_count": 1,
   "id": "fe6ef60e-427d-495e-90d6-d89ec221db7d",
   "metadata": {},
   "outputs": [],
   "source": [
    "# 1.i open a editor like as nootbook, vs code, jupyter\n",
    "# 2. i wrote a code and save its as .py extension.\n",
    "# 3. then i write a program in pythone.\n",
    "# 4. then press shift=enter or control +enter \n",
    "# 5. then finaly our code is executed."
   ]
  },
  {
   "cell_type": "markdown",
   "id": "77198ec0-4cbc-48f1-981f-1bcd2e8c4da8",
   "metadata": {},
   "source": [
    "Q5. Given a list my_list = [1, 2, 3, 4, 5], write the code to slice the list and obtain the sub-list [2, 3]."
   ]
  },
  {
   "cell_type": "code",
   "execution_count": 2,
   "id": "2ffe92d9-2d27-4c64-bd36-edd2dfbca62a",
   "metadata": {},
   "outputs": [],
   "source": [
    "my_list=[1,2,3,4,5]\n"
   ]
  },
  {
   "cell_type": "code",
   "execution_count": 4,
   "id": "f75b825a-5987-4ad2-8bd1-27afbf66538c",
   "metadata": {},
   "outputs": [
    {
     "data": {
      "text/plain": [
       "[2, 3]"
      ]
     },
     "execution_count": 4,
     "metadata": {},
     "output_type": "execute_result"
    }
   ],
   "source": [
    "my_list[1:3]"
   ]
  },
  {
   "cell_type": "markdown",
   "id": "e641b0e2-4abf-4135-969f-899e88e83b00",
   "metadata": {},
   "source": [
    "Q6. What is a complex number in mathematics, and how is it represented in Python?"
   ]
  },
  {
   "cell_type": "code",
   "execution_count": 5,
   "id": "6b2f6c11-7ff0-42d8-becf-4c648deae67f",
   "metadata": {},
   "outputs": [],
   "source": [
    "# In mathematics, a complex number is a number that comprises a real part and an imaginary part"
   ]
  },
  {
   "cell_type": "code",
   "execution_count": 6,
   "id": "764e6861-5253-426b-8860-74dea73c490f",
   "metadata": {},
   "outputs": [],
   "source": [
    "complex_num=5+78J"
   ]
  },
  {
   "cell_type": "markdown",
   "id": "3a37dd6e-b653-4422-9a41-0c78b0f14557",
   "metadata": {},
   "source": [
    "Q7. What is the correct way to declare a variable named age and assign the value 25 to it?"
   ]
  },
  {
   "cell_type": "code",
   "execution_count": 8,
   "id": "c99b2a1c-d88f-4417-8da1-1b098c4d0389",
   "metadata": {},
   "outputs": [],
   "source": [
    "age=25 # here age is a variable name and 27 is a its value"
   ]
  },
  {
   "cell_type": "markdown",
   "id": "b907c32f-5c6a-4e2b-9bd6-b8b42e8e86e7",
   "metadata": {},
   "source": [
    "Q8. Declare a variable named price and assign the value 9.99 to it. What data type does this variable\n",
    "belong to?"
   ]
  },
  {
   "cell_type": "code",
   "execution_count": 9,
   "id": "6fe75cd6-14df-4f17-a1f0-ccde2ebc550b",
   "metadata": {},
   "outputs": [],
   "source": [
    "price=9.99"
   ]
  },
  {
   "cell_type": "code",
   "execution_count": 10,
   "id": "f365673a-d732-4ada-975f-78f814750858",
   "metadata": {},
   "outputs": [
    {
     "data": {
      "text/plain": [
       "float"
      ]
     },
     "execution_count": 10,
     "metadata": {},
     "output_type": "execute_result"
    }
   ],
   "source": [
    "type(price)"
   ]
  },
  {
   "cell_type": "markdown",
   "id": "d8578e8a-c555-4374-9d4c-667e079e178c",
   "metadata": {},
   "source": [
    "Q9. Create a variable named name and assign your full name to it as a string. How would you print the\n",
    "value of this variable?"
   ]
  },
  {
   "cell_type": "code",
   "execution_count": 12,
   "id": "27af22eb-d7ba-4391-91d3-56398f3470b4",
   "metadata": {},
   "outputs": [
    {
     "name": "stdout",
     "output_type": "stream",
     "text": [
      "Saddam Ansari\n"
     ]
    }
   ],
   "source": [
    "name=\"Saddam Ansari\"\n",
    "print(name)"
   ]
  },
  {
   "cell_type": "markdown",
   "id": "392c9146-45f1-4bbf-8aa0-a92e1c9e4297",
   "metadata": {},
   "source": [
    "Q10. Given the string \"Hello, World!\", extract the substring \"World\"."
   ]
  },
  {
   "cell_type": "code",
   "execution_count": 13,
   "id": "da921562-879f-4983-a1e9-76d4284610f7",
   "metadata": {},
   "outputs": [
    {
     "name": "stdout",
     "output_type": "stream",
     "text": [
      "World\n"
     ]
    }
   ],
   "source": [
    "string = \"Hello, World!\"\n",
    "substring = string[7:12]\n",
    "print(substring)\n"
   ]
  },
  {
   "cell_type": "markdown",
   "id": "5cc3ec08-3d55-4986-9341-cd7e2965b398",
   "metadata": {},
   "source": [
    "Q11. Create a variable named \"is_student\" and assign it a boolean value indicating whether you are\n",
    "currently a student or not."
   ]
  },
  {
   "cell_type": "code",
   "execution_count": 15,
   "id": "a8241da0-e8f9-4abd-b3ec-1f6c74e28bca",
   "metadata": {},
   "outputs": [],
   "source": [
    "is_student = True  # or False\n"
   ]
  },
  {
   "cell_type": "code",
   "execution_count": 16,
   "id": "4190ba6c-d389-4462-9df4-b8d92c88b183",
   "metadata": {},
   "outputs": [
    {
     "data": {
      "text/plain": [
       "True"
      ]
     },
     "execution_count": 16,
     "metadata": {},
     "output_type": "execute_result"
    }
   ],
   "source": [
    "is_student"
   ]
  },
  {
   "cell_type": "code",
   "execution_count": null,
   "id": "817a8ee9-2240-4e00-91c6-6bdd32c54e3b",
   "metadata": {},
   "outputs": [],
   "source": [
    "\n",
    "\n",
    "# BY-SADDAM ANSARI\n",
    "# DATE-08/06/2023\n",
    "# # PLACE- SAHASA/"
   ]
  }
 ],
 "metadata": {
  "kernelspec": {
   "display_name": "Python 3 (ipykernel)",
   "language": "python",
   "name": "python3"
  },
  "language_info": {
   "codemirror_mode": {
    "name": "ipython",
    "version": 3
   },
   "file_extension": ".py",
   "mimetype": "text/x-python",
   "name": "python",
   "nbconvert_exporter": "python",
   "pygments_lexer": "ipython3",
   "version": "3.10.8"
  }
 },
 "nbformat": 4,
 "nbformat_minor": 5
}
